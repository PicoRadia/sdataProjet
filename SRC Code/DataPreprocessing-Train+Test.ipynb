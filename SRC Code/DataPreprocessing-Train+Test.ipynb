{
 "cells": [
  {
   "cell_type": "markdown",
   "metadata": {},
   "source": [
    "# Preprocessing and data cleaning"
   ]
  },
  {
   "cell_type": "code",
   "execution_count": 14,
   "metadata": {},
   "outputs": [],
   "source": [
    "import numpy as np \n",
    "import pandas as pd\n",
    "\n",
    "from sklearn.preprocessing import RobustScaler\n",
    "from sklearn.preprocessing import OneHotEncoder\n",
    "from sklearn.preprocessing import LabelEncoder\n",
    "from sklearn.model_selection import train_test_split\n",
    "from pandas.api.types import is_numeric_dtype , is_string_dtype , is_categorical_dtype\n",
    "\n",
    "import feather"
   ]
  },
  {
   "cell_type": "markdown",
   "metadata": {},
   "source": [
    "# A-  Preprocessing the training data set"
   ]
  },
  {
   "cell_type": "markdown",
   "metadata": {},
   "source": [
    "### Load the training data"
   ]
  },
  {
   "cell_type": "code",
   "execution_count": 23,
   "metadata": {},
   "outputs": [
    {
     "data": {
      "text/plain": [
       "array(['trap', 'techno', 'Dark Trap', 'Underground Rap', 'hardstyle',\n",
       "       'Trap Metal', 'techhouse', 'RnB', 'psytrance', 'Emo', 'dnb',\n",
       "       'trance', 'Rap', 'Hiphop', 'Pop'], dtype=object)"
      ]
     },
     "execution_count": 23,
     "metadata": {},
     "output_type": "execute_result"
    }
   ],
   "source": [
    "df.genre.unique()"
   ]
  },
  {
   "cell_type": "code",
   "execution_count": 15,
   "metadata": {},
   "outputs": [],
   "source": [
    "# load data\n",
    "url1 = \"https://raw.githubusercontent.com/PicoRadia/sdataProjet/main/dataset/Spotify_train_dataset.csv\"\n",
    "df = pd.read_csv(url1)#31728 rows x 20 columns"
   ]
  },
  {
   "cell_type": "markdown",
   "metadata": {},
   "source": [
    "## Preprocessing :\n",
    "* One hot encoding for the discrete variables \n",
    "* Robust scaler for the continuous variables\n",
    "* Feature engineering\n",
    "* Feature selection"
   ]
  },
  {
   "cell_type": "code",
   "execution_count": 21,
   "metadata": {},
   "outputs": [],
   "source": [
    "def preprocess1(dff):\n",
    "    cols = ['type', 'uri', 'track_href', 'analysis_url', 'song_name','type']\n",
    "    num = [col for col in dff.columns if is_numeric_dtype(dff[col])]\n",
    "    dscr = [col for col in dff[num].columns if len(dff[num].groupby(col)[col].unique()) < 20]\n",
    "    conti = [val for val in num if val not in dscr]\n",
    "    \n",
    "    contdf = dff[conti].copy()\n",
    "    cols = contdf.columns\n",
    "    # convert the array back to a dataframe\n",
    "    transform = RobustScaler()\n",
    "    data = transform.fit_transform(contdf)\n",
    "    \n",
    "    # convert the array back to a dataframe\n",
    "    \n",
    "    contdf = pd.DataFrame(data)\n",
    "    contdf.columns = cols\n",
    "\n",
    "    dscrdf = dff[dscr].copy()\n",
    "\n",
    "    time_signature_ = pd.get_dummies(dscrdf.time_signature, prefix='time_signature_')\n",
    "\n",
    "    tmp = pd.get_dummies(dff,columns = ['mode'])\n",
    "    result = pd.concat([dff, time_signature_,tmp[['mode_0','mode_1']]], axis=1,join=\"inner\")\n",
    "    result[\"mins\"] = dff[\"duration_ms\"] * 0.001 /60\n",
    "    # result['mins'] = pd.to_datetime(result['mins']).dt.minute\n",
    "    dff['song_name'] = dff['song_name'].replace(np.nan, 0)\n",
    "    l3 = []\n",
    "    for val in dff.song_name:\n",
    "        if val == 0:\n",
    "            l3.append(0)\n",
    "        else:\n",
    "            l3.append(1)\n",
    "    result['song_name_nan'] = l3\n",
    " \n",
    "    # dropping duplicates\n",
    "    result.drop_duplicates(subset =\"id\", keep = False, inplace = True) \n",
    "    # dropping columns\n",
    "    cols = ['type', 'uri','genre' ,'track_href', 'key','analysis_url','id' ,'song_name','type','key','time_signature','mode','duration_ms']\n",
    "    result.drop(cols, axis = 1,inplace=True)\n",
    "    return result"
   ]
  },
  {
   "cell_type": "code",
   "execution_count": 17,
   "metadata": {
    "scrolled": true
   },
   "outputs": [],
   "source": [
    "dff = df.copy()"
   ]
  },
  {
   "cell_type": "code",
   "execution_count": 18,
   "metadata": {},
   "outputs": [],
   "source": [
    "x = preprocess1(dff)"
   ]
  },
  {
   "cell_type": "code",
   "execution_count": 19,
   "metadata": {},
   "outputs": [
    {
     "name": "stdout",
     "output_type": "stream",
     "text": [
      "<class 'pandas.core.frame.DataFrame'>\n",
      "Int64Index: 24738 entries, 1 to 31727\n",
      "Data columns (total 17 columns):\n",
      " #   Column             Non-Null Count  Dtype  \n",
      "---  ------             --------------  -----  \n",
      " 0   danceability       24738 non-null  float64\n",
      " 1   energy             24738 non-null  float64\n",
      " 2   loudness           24738 non-null  float64\n",
      " 3   speechiness        24738 non-null  float64\n",
      " 4   acousticness       24738 non-null  float64\n",
      " 5   instrumentalness   24738 non-null  float64\n",
      " 6   liveness           24738 non-null  float64\n",
      " 7   valence            24738 non-null  float64\n",
      " 8   tempo              24738 non-null  float64\n",
      " 9   time_signature__1  24738 non-null  uint8  \n",
      " 10  time_signature__3  24738 non-null  uint8  \n",
      " 11  time_signature__4  24738 non-null  uint8  \n",
      " 12  time_signature__5  24738 non-null  uint8  \n",
      " 13  mode_0             24738 non-null  uint8  \n",
      " 14  mode_1             24738 non-null  uint8  \n",
      " 15  mins               24738 non-null  float64\n",
      " 16  song_name_nan      24738 non-null  int64  \n",
      "dtypes: float64(10), int64(1), uint8(6)\n",
      "memory usage: 2.4 MB\n"
     ]
    }
   ],
   "source": [
    "x.info()"
   ]
  },
  {
   "cell_type": "code",
   "execution_count": null,
   "metadata": {},
   "outputs": [],
   "source": [
    "x.tail(10).T"
   ]
  },
  {
   "cell_type": "markdown",
   "metadata": {},
   "source": [
    "## Saving result in feather format"
   ]
  },
  {
   "cell_type": "code",
   "execution_count": 20,
   "metadata": {},
   "outputs": [],
   "source": [
    "x.reset_index().to_feather('./fin')"
   ]
  },
  {
   "cell_type": "markdown",
   "metadata": {},
   "source": [
    "# B- Preprocessing test set"
   ]
  },
  {
   "cell_type": "code",
   "execution_count": 24,
   "metadata": {},
   "outputs": [],
   "source": [
    "# load data\n",
    "url1 = \"https://raw.githubusercontent.com/PicoRadia/sdataProjet/main/dataset/Spotify_test_dataset.csv\"\n",
    "test = pd.read_csv(url1)#31728 rows x 20 columns"
   ]
  },
  {
   "cell_type": "code",
   "execution_count": 25,
   "metadata": {},
   "outputs": [
    {
     "data": {
      "text/html": [
       "<div>\n",
       "<style scoped>\n",
       "    .dataframe tbody tr th:only-of-type {\n",
       "        vertical-align: middle;\n",
       "    }\n",
       "\n",
       "    .dataframe tbody tr th {\n",
       "        vertical-align: top;\n",
       "    }\n",
       "\n",
       "    .dataframe thead th {\n",
       "        text-align: right;\n",
       "    }\n",
       "</style>\n",
       "<table border=\"1\" class=\"dataframe\">\n",
       "  <thead>\n",
       "    <tr style=\"text-align: right;\">\n",
       "      <th></th>\n",
       "      <th>danceability</th>\n",
       "      <th>energy</th>\n",
       "      <th>key</th>\n",
       "      <th>loudness</th>\n",
       "      <th>mode</th>\n",
       "      <th>speechiness</th>\n",
       "      <th>acousticness</th>\n",
       "      <th>instrumentalness</th>\n",
       "      <th>liveness</th>\n",
       "      <th>valence</th>\n",
       "      <th>tempo</th>\n",
       "      <th>type</th>\n",
       "      <th>id</th>\n",
       "      <th>uri</th>\n",
       "      <th>track_href</th>\n",
       "      <th>analysis_url</th>\n",
       "      <th>duration_ms</th>\n",
       "      <th>time_signature</th>\n",
       "      <th>song_name</th>\n",
       "    </tr>\n",
       "  </thead>\n",
       "  <tbody>\n",
       "    <tr>\n",
       "      <th>0</th>\n",
       "      <td>0.859</td>\n",
       "      <td>0.792</td>\n",
       "      <td>2</td>\n",
       "      <td>-4.007</td>\n",
       "      <td>1</td>\n",
       "      <td>0.1410</td>\n",
       "      <td>0.065000</td>\n",
       "      <td>0.000000</td>\n",
       "      <td>0.3000</td>\n",
       "      <td>0.766</td>\n",
       "      <td>206.402</td>\n",
       "      <td>audio_features</td>\n",
       "      <td>6tYL1tBaqTcaqXIykzfF7M</td>\n",
       "      <td>spotify:track:6tYL1tBaqTcaqXIykzfF7M</td>\n",
       "      <td>https://api.spotify.com/v1/tracks/6tYL1tBaqTca...</td>\n",
       "      <td>https://api.spotify.com/v1/audio-analysis/6tYL...</td>\n",
       "      <td>276813</td>\n",
       "      <td>4</td>\n",
       "      <td>All About U (ft. Nate Dogg, Snoop Dogg, Fatal,...</td>\n",
       "    </tr>\n",
       "    <tr>\n",
       "      <th>1</th>\n",
       "      <td>0.829</td>\n",
       "      <td>0.619</td>\n",
       "      <td>1</td>\n",
       "      <td>-7.258</td>\n",
       "      <td>1</td>\n",
       "      <td>0.1980</td>\n",
       "      <td>0.290000</td>\n",
       "      <td>0.000371</td>\n",
       "      <td>0.0975</td>\n",
       "      <td>0.351</td>\n",
       "      <td>192.070</td>\n",
       "      <td>audio_features</td>\n",
       "      <td>4X5AMbgW6whnAuDX10fhgq</td>\n",
       "      <td>spotify:track:4X5AMbgW6whnAuDX10fhgq</td>\n",
       "      <td>https://api.spotify.com/v1/tracks/4X5AMbgW6whn...</td>\n",
       "      <td>https://api.spotify.com/v1/audio-analysis/4X5A...</td>\n",
       "      <td>148093</td>\n",
       "      <td>4</td>\n",
       "      <td>Revenge</td>\n",
       "    </tr>\n",
       "    <tr>\n",
       "      <th>2</th>\n",
       "      <td>0.461</td>\n",
       "      <td>0.834</td>\n",
       "      <td>3</td>\n",
       "      <td>-3.387</td>\n",
       "      <td>0</td>\n",
       "      <td>0.1420</td>\n",
       "      <td>0.261000</td>\n",
       "      <td>0.000000</td>\n",
       "      <td>0.0918</td>\n",
       "      <td>0.517</td>\n",
       "      <td>129.976</td>\n",
       "      <td>audio_features</td>\n",
       "      <td>2J176Rj3ZTTLKeTirMzQ4M</td>\n",
       "      <td>spotify:track:2J176Rj3ZTTLKeTirMzQ4M</td>\n",
       "      <td>https://api.spotify.com/v1/tracks/2J176Rj3ZTTL...</td>\n",
       "      <td>https://api.spotify.com/v1/audio-analysis/2J17...</td>\n",
       "      <td>193542</td>\n",
       "      <td>4</td>\n",
       "      <td>Changes</td>\n",
       "    </tr>\n",
       "    <tr>\n",
       "      <th>3</th>\n",
       "      <td>0.691</td>\n",
       "      <td>0.984</td>\n",
       "      <td>1</td>\n",
       "      <td>-4.828</td>\n",
       "      <td>1</td>\n",
       "      <td>0.0610</td>\n",
       "      <td>0.000924</td>\n",
       "      <td>0.513000</td>\n",
       "      <td>0.5960</td>\n",
       "      <td>0.756</td>\n",
       "      <td>126.979</td>\n",
       "      <td>audio_features</td>\n",
       "      <td>08oufzbacifu4V5zQcoNMG</td>\n",
       "      <td>spotify:track:08oufzbacifu4V5zQcoNMG</td>\n",
       "      <td>https://api.spotify.com/v1/tracks/08oufzbacifu...</td>\n",
       "      <td>https://api.spotify.com/v1/audio-analysis/08ou...</td>\n",
       "      <td>204091</td>\n",
       "      <td>4</td>\n",
       "      <td>NaN</td>\n",
       "    </tr>\n",
       "    <tr>\n",
       "      <th>4</th>\n",
       "      <td>0.685</td>\n",
       "      <td>0.798</td>\n",
       "      <td>6</td>\n",
       "      <td>-4.683</td>\n",
       "      <td>0</td>\n",
       "      <td>0.0342</td>\n",
       "      <td>0.013100</td>\n",
       "      <td>0.000078</td>\n",
       "      <td>0.1110</td>\n",
       "      <td>0.831</td>\n",
       "      <td>133.994</td>\n",
       "      <td>audio_features</td>\n",
       "      <td>3ZuoDMBWEnM5kuve9Y55tv</td>\n",
       "      <td>spotify:track:3ZuoDMBWEnM5kuve9Y55tv</td>\n",
       "      <td>https://api.spotify.com/v1/tracks/3ZuoDMBWEnM5...</td>\n",
       "      <td>https://api.spotify.com/v1/audio-analysis/3Zuo...</td>\n",
       "      <td>193647</td>\n",
       "      <td>5</td>\n",
       "      <td>Don't Believe Me</td>\n",
       "    </tr>\n",
       "  </tbody>\n",
       "</table>\n",
       "</div>"
      ],
      "text/plain": [
       "   danceability  energy  key  loudness  mode  speechiness  acousticness  \\\n",
       "0         0.859   0.792    2    -4.007     1       0.1410      0.065000   \n",
       "1         0.829   0.619    1    -7.258     1       0.1980      0.290000   \n",
       "2         0.461   0.834    3    -3.387     0       0.1420      0.261000   \n",
       "3         0.691   0.984    1    -4.828     1       0.0610      0.000924   \n",
       "4         0.685   0.798    6    -4.683     0       0.0342      0.013100   \n",
       "\n",
       "   instrumentalness  liveness  valence    tempo            type  \\\n",
       "0          0.000000    0.3000    0.766  206.402  audio_features   \n",
       "1          0.000371    0.0975    0.351  192.070  audio_features   \n",
       "2          0.000000    0.0918    0.517  129.976  audio_features   \n",
       "3          0.513000    0.5960    0.756  126.979  audio_features   \n",
       "4          0.000078    0.1110    0.831  133.994  audio_features   \n",
       "\n",
       "                       id                                   uri  \\\n",
       "0  6tYL1tBaqTcaqXIykzfF7M  spotify:track:6tYL1tBaqTcaqXIykzfF7M   \n",
       "1  4X5AMbgW6whnAuDX10fhgq  spotify:track:4X5AMbgW6whnAuDX10fhgq   \n",
       "2  2J176Rj3ZTTLKeTirMzQ4M  spotify:track:2J176Rj3ZTTLKeTirMzQ4M   \n",
       "3  08oufzbacifu4V5zQcoNMG  spotify:track:08oufzbacifu4V5zQcoNMG   \n",
       "4  3ZuoDMBWEnM5kuve9Y55tv  spotify:track:3ZuoDMBWEnM5kuve9Y55tv   \n",
       "\n",
       "                                          track_href  \\\n",
       "0  https://api.spotify.com/v1/tracks/6tYL1tBaqTca...   \n",
       "1  https://api.spotify.com/v1/tracks/4X5AMbgW6whn...   \n",
       "2  https://api.spotify.com/v1/tracks/2J176Rj3ZTTL...   \n",
       "3  https://api.spotify.com/v1/tracks/08oufzbacifu...   \n",
       "4  https://api.spotify.com/v1/tracks/3ZuoDMBWEnM5...   \n",
       "\n",
       "                                        analysis_url  duration_ms  \\\n",
       "0  https://api.spotify.com/v1/audio-analysis/6tYL...       276813   \n",
       "1  https://api.spotify.com/v1/audio-analysis/4X5A...       148093   \n",
       "2  https://api.spotify.com/v1/audio-analysis/2J17...       193542   \n",
       "3  https://api.spotify.com/v1/audio-analysis/08ou...       204091   \n",
       "4  https://api.spotify.com/v1/audio-analysis/3Zuo...       193647   \n",
       "\n",
       "   time_signature                                          song_name  \n",
       "0               4  All About U (ft. Nate Dogg, Snoop Dogg, Fatal,...  \n",
       "1               4                                            Revenge  \n",
       "2               4                                            Changes  \n",
       "3               4                                                NaN  \n",
       "4               5                                   Don't Believe Me  "
      ]
     },
     "execution_count": 25,
     "metadata": {},
     "output_type": "execute_result"
    }
   ],
   "source": [
    "test.head()"
   ]
  },
  {
   "cell_type": "code",
   "execution_count": 26,
   "metadata": {},
   "outputs": [],
   "source": [
    "dff = test.copy()"
   ]
  },
  {
   "cell_type": "code",
   "execution_count": null,
   "metadata": {},
   "outputs": [],
   "source": [
    "x = preprocess1(dff)"
   ]
  },
  {
   "cell_type": "markdown",
   "metadata": {},
   "source": [
    "###  Saving file in feather format"
   ]
  },
  {
   "cell_type": "code",
   "execution_count": null,
   "metadata": {},
   "outputs": [],
   "source": [
    "x.reset_index().to_feather('./testfin')"
   ]
  },
  {
   "cell_type": "markdown",
   "metadata": {},
   "source": [
    "# Conclusion"
   ]
  },
  {
   "cell_type": "markdown",
   "metadata": {},
   "source": [
    "We now have clean data that we can use to train our models and that is fast to load too because it's saved in feather format.\n",
    "We can do some feature engineering to make our mode better."
   ]
  }
 ],
 "metadata": {
  "kernelspec": {
   "display_name": "Python 3",
   "language": "python",
   "name": "python3"
  },
  "language_info": {
   "codemirror_mode": {
    "name": "ipython",
    "version": 3
   },
   "file_extension": ".py",
   "mimetype": "text/x-python",
   "name": "python",
   "nbconvert_exporter": "python",
   "pygments_lexer": "ipython3",
   "version": "3.8.5"
  }
 },
 "nbformat": 4,
 "nbformat_minor": 4
}
