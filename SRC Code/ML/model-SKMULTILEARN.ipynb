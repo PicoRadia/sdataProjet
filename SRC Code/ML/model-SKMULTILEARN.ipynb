{
 "cells": [
  {
   "cell_type": "markdown",
   "metadata": {},
   "source": [
    "# SKMULTILEARN"
   ]
  },
  {
   "cell_type": "code",
   "execution_count": 37,
   "metadata": {},
   "outputs": [],
   "source": [
    "import numpy as np \n",
    "import pandas as pd"
   ]
  },
  {
   "cell_type": "code",
   "execution_count": 38,
   "metadata": {},
   "outputs": [],
   "source": [
    "from sklearn.model_selection import train_test_split\n",
    "from sklearn.ensemble import RandomForestClassifier, AdaBoostClassifier\n",
    "\n",
    "from sklearn.ensemble import GradientBoostingClassifier\n",
    "from sklearn.metrics import multilabel_confusion_matrix\n",
    "import sklearn.metrics as skm\n",
    "from sklearn.preprocessing import LabelEncoder\n",
    "from sklearn.metrics import f1_score\n",
    "from sklearn.multiclass import OneVsOneClassifier \n",
    "from sklearn.linear_model import SGDClassifier\n",
    "from sklearn.svm import SVC"
   ]
  },
  {
   "cell_type": "code",
   "execution_count": 39,
   "metadata": {},
   "outputs": [],
   "source": [
    "from skmultilearn.problem_transform import BinaryRelevance\n",
    "from skmultilearn.problem_transform import LabelPowerset\n",
    "from skmultilearn.adapt import MLkNN"
   ]
  },
  {
   "cell_type": "code",
   "execution_count": 40,
   "metadata": {},
   "outputs": [],
   "source": [
    "import feather\n",
    "import warnings\n",
    "warnings.filterwarnings('ignore')"
   ]
  },
  {
   "cell_type": "markdown",
   "metadata": {},
   "source": [
    "As seen in the EDA part the proportion of genres in the dataset is not balenced .We'll choose the model score to be the F1 score."
   ]
  },
  {
   "cell_type": "markdown",
   "metadata": {},
   "source": [
    "### Reading data from featehr format"
   ]
  },
  {
   "cell_type": "code",
   "execution_count": 41,
   "metadata": {},
   "outputs": [],
   "source": [
    "# load data\n",
    "url1 = \"https://raw.githubusercontent.com/PicoRadia/sdataProjet/main/dataset/Spotify_train_dataset.csv\"\n",
    "df = pd.read_csv(url1)#31728 rows x 20 columns\n",
    "# dropping duplicates\n",
    "df.drop_duplicates(subset =\"id\", keep = False, inplace = True)"
   ]
  },
  {
   "cell_type": "code",
   "execution_count": 42,
   "metadata": {},
   "outputs": [
    {
     "data": {
      "text/html": [
       "<div>\n",
       "<style scoped>\n",
       "    .dataframe tbody tr th:only-of-type {\n",
       "        vertical-align: middle;\n",
       "    }\n",
       "\n",
       "    .dataframe tbody tr th {\n",
       "        vertical-align: top;\n",
       "    }\n",
       "\n",
       "    .dataframe thead th {\n",
       "        text-align: right;\n",
       "    }\n",
       "</style>\n",
       "<table border=\"1\" class=\"dataframe\">\n",
       "  <thead>\n",
       "    <tr style=\"text-align: right;\">\n",
       "      <th></th>\n",
       "      <th>index</th>\n",
       "      <th>danceability</th>\n",
       "      <th>energy</th>\n",
       "      <th>loudness</th>\n",
       "      <th>speechiness</th>\n",
       "      <th>acousticness</th>\n",
       "      <th>instrumentalness</th>\n",
       "      <th>liveness</th>\n",
       "      <th>valence</th>\n",
       "      <th>tempo</th>\n",
       "      <th>time_signature__1</th>\n",
       "      <th>time_signature__3</th>\n",
       "      <th>time_signature__4</th>\n",
       "      <th>time_signature__5</th>\n",
       "      <th>mode_0</th>\n",
       "      <th>mode_1</th>\n",
       "      <th>mins</th>\n",
       "      <th>song_name_nan</th>\n",
       "    </tr>\n",
       "  </thead>\n",
       "  <tbody>\n",
       "    <tr>\n",
       "      <th>0</th>\n",
       "      <td>1</td>\n",
       "      <td>0.618</td>\n",
       "      <td>0.654</td>\n",
       "      <td>-14.305</td>\n",
       "      <td>0.4220</td>\n",
       "      <td>0.226000</td>\n",
       "      <td>0.864</td>\n",
       "      <td>0.1110</td>\n",
       "      <td>0.1760</td>\n",
       "      <td>127.953</td>\n",
       "      <td>0</td>\n",
       "      <td>0</td>\n",
       "      <td>1</td>\n",
       "      <td>0</td>\n",
       "      <td>1</td>\n",
       "      <td>0</td>\n",
       "      <td>6.068300</td>\n",
       "      <td>0</td>\n",
       "    </tr>\n",
       "    <tr>\n",
       "      <th>1</th>\n",
       "      <td>2</td>\n",
       "      <td>0.696</td>\n",
       "      <td>0.896</td>\n",
       "      <td>-5.915</td>\n",
       "      <td>0.1080</td>\n",
       "      <td>0.016400</td>\n",
       "      <td>0.866</td>\n",
       "      <td>0.1030</td>\n",
       "      <td>0.5700</td>\n",
       "      <td>128.001</td>\n",
       "      <td>0</td>\n",
       "      <td>0</td>\n",
       "      <td>1</td>\n",
       "      <td>0</td>\n",
       "      <td>0</td>\n",
       "      <td>1</td>\n",
       "      <td>8.437500</td>\n",
       "      <td>0</td>\n",
       "    </tr>\n",
       "    <tr>\n",
       "      <th>2</th>\n",
       "      <td>3</td>\n",
       "      <td>0.769</td>\n",
       "      <td>0.506</td>\n",
       "      <td>-11.658</td>\n",
       "      <td>0.0452</td>\n",
       "      <td>0.002730</td>\n",
       "      <td>0.000</td>\n",
       "      <td>0.0832</td>\n",
       "      <td>0.1020</td>\n",
       "      <td>120.004</td>\n",
       "      <td>0</td>\n",
       "      <td>0</td>\n",
       "      <td>1</td>\n",
       "      <td>0</td>\n",
       "      <td>0</td>\n",
       "      <td>1</td>\n",
       "      <td>3.867433</td>\n",
       "      <td>1</td>\n",
       "    </tr>\n",
       "    <tr>\n",
       "      <th>3</th>\n",
       "      <td>5</td>\n",
       "      <td>0.568</td>\n",
       "      <td>0.779</td>\n",
       "      <td>-9.779</td>\n",
       "      <td>0.0323</td>\n",
       "      <td>0.000519</td>\n",
       "      <td>0.929</td>\n",
       "      <td>0.0660</td>\n",
       "      <td>0.0852</td>\n",
       "      <td>128.015</td>\n",
       "      <td>0</td>\n",
       "      <td>0</td>\n",
       "      <td>1</td>\n",
       "      <td>0</td>\n",
       "      <td>0</td>\n",
       "      <td>1</td>\n",
       "      <td>4.100150</td>\n",
       "      <td>0</td>\n",
       "    </tr>\n",
       "    <tr>\n",
       "      <th>4</th>\n",
       "      <td>6</td>\n",
       "      <td>0.784</td>\n",
       "      <td>0.852</td>\n",
       "      <td>-2.511</td>\n",
       "      <td>0.1660</td>\n",
       "      <td>0.001630</td>\n",
       "      <td>0.000</td>\n",
       "      <td>0.0781</td>\n",
       "      <td>0.5290</td>\n",
       "      <td>134.046</td>\n",
       "      <td>0</td>\n",
       "      <td>0</td>\n",
       "      <td>1</td>\n",
       "      <td>0</td>\n",
       "      <td>1</td>\n",
       "      <td>0</td>\n",
       "      <td>2.433400</td>\n",
       "      <td>1</td>\n",
       "    </tr>\n",
       "  </tbody>\n",
       "</table>\n",
       "</div>"
      ],
      "text/plain": [
       "   index  danceability  energy  loudness  speechiness  acousticness  \\\n",
       "0      1         0.618   0.654   -14.305       0.4220      0.226000   \n",
       "1      2         0.696   0.896    -5.915       0.1080      0.016400   \n",
       "2      3         0.769   0.506   -11.658       0.0452      0.002730   \n",
       "3      5         0.568   0.779    -9.779       0.0323      0.000519   \n",
       "4      6         0.784   0.852    -2.511       0.1660      0.001630   \n",
       "\n",
       "   instrumentalness  liveness  valence    tempo  time_signature__1  \\\n",
       "0             0.864    0.1110   0.1760  127.953                  0   \n",
       "1             0.866    0.1030   0.5700  128.001                  0   \n",
       "2             0.000    0.0832   0.1020  120.004                  0   \n",
       "3             0.929    0.0660   0.0852  128.015                  0   \n",
       "4             0.000    0.0781   0.5290  134.046                  0   \n",
       "\n",
       "   time_signature__3  time_signature__4  time_signature__5  mode_0  mode_1  \\\n",
       "0                  0                  1                  0       1       0   \n",
       "1                  0                  1                  0       0       1   \n",
       "2                  0                  1                  0       0       1   \n",
       "3                  0                  1                  0       0       1   \n",
       "4                  0                  1                  0       1       0   \n",
       "\n",
       "       mins  song_name_nan  \n",
       "0  6.068300              0  \n",
       "1  8.437500              0  \n",
       "2  3.867433              1  \n",
       "3  4.100150              0  \n",
       "4  2.433400              1  "
      ]
     },
     "execution_count": 42,
     "metadata": {},
     "output_type": "execute_result"
    }
   ],
   "source": [
    "data = pd.read_feather('./fin')\n",
    "data.head()"
   ]
  },
  {
   "cell_type": "code",
   "execution_count": 43,
   "metadata": {},
   "outputs": [],
   "source": [
    "a = df.genre\n",
    "y = pd.get_dummies(a, prefix='t')"
   ]
  },
  {
   "cell_type": "markdown",
   "metadata": {},
   "source": [
    "### Split to train and test data"
   ]
  },
  {
   "cell_type": "markdown",
   "metadata": {},
   "source": [
    "Creating a good dataset is very important we need to have the same proportion of genres in the test set as in the training test.\n",
    "=> Stratified spitting."
   ]
  },
  {
   "cell_type": "code",
   "execution_count": 44,
   "metadata": {},
   "outputs": [],
   "source": [
    "X_train, X_test, y_train, y_test = train_test_split(data, y,test_size=0.2, random_state=42, stratify=y)"
   ]
  },
  {
   "cell_type": "code",
   "execution_count": 45,
   "metadata": {},
   "outputs": [
    {
     "data": {
      "text/plain": [
       "0.732619240097009"
      ]
     },
     "execution_count": 45,
     "metadata": {},
     "output_type": "execute_result"
    }
   ],
   "source": [
    "classifier = LabelPowerset(\n",
    "    classifier = RandomForestClassifier(bootstrap=True,n_jobs = -1,class_weight='balanced_subsample'),\n",
    "    require_dense = [False, True]\n",
    ")\n",
    "classifier.fit(X_train, y_train)\n",
    "y_pred = classifier.predict(X_test)\n",
    "f1_score(y_test, y_pred,average='micro')"
   ]
  },
  {
   "cell_type": "code",
   "execution_count": 13,
   "metadata": {
    "scrolled": false
   },
   "outputs": [
    {
     "name": "stdout",
     "output_type": "stream",
     "text": [
      "              precision    recall  f1-score   support\n",
      "\n",
      "           0       0.67      0.70      0.69       555\n",
      "           1       0.77      0.78      0.77       245\n",
      "           2       0.48      0.43      0.45       367\n",
      "           3       0.62      0.16      0.26        61\n",
      "           4       0.67      0.28      0.40       193\n",
      "           5       0.52      0.48      0.50       277\n",
      "           6       0.59      0.41      0.48       198\n",
      "           7       0.47      0.65      0.55       640\n",
      "           8       1.00      1.00      1.00       341\n",
      "           9       0.90      0.91      0.91       310\n",
      "          10       0.91      0.90      0.91       376\n",
      "          11       0.91      0.90      0.90       289\n",
      "          12       0.86      0.87      0.86       371\n",
      "          13       0.88      0.91      0.89       411\n",
      "          14       0.91      0.88      0.89       314\n",
      "\n",
      "   micro avg       0.73      0.73      0.73      4948\n",
      "   macro avg       0.74      0.68      0.70      4948\n",
      "weighted avg       0.74      0.73      0.73      4948\n",
      " samples avg       0.73      0.73      0.73      4948\n",
      "\n"
     ]
    }
   ],
   "source": [
    " print(skm.classification_report(y_test,y_pred))"
   ]
  },
  {
   "cell_type": "markdown",
   "metadata": {},
   "source": [
    "## MLKNN"
   ]
  }
 ],
 "metadata": {
  "kernelspec": {
   "display_name": "Python 3",
   "language": "python",
   "name": "python3"
  },
  "language_info": {
   "codemirror_mode": {
    "name": "ipython",
    "version": 3
   },
   "file_extension": ".py",
   "mimetype": "text/x-python",
   "name": "python",
   "nbconvert_exporter": "python",
   "pygments_lexer": "ipython3",
   "version": "3.8.5"
  }
 },
 "nbformat": 4,
 "nbformat_minor": 4
}
